{
 "cells": [
  {
   "cell_type": "markdown",
   "id": "b73c730c",
   "metadata": {},
   "source": [
    "# **IMI BIG DATA & AI CASE COMPETITION**\n",
    "\n",
    "## *By: Hafsa, Cindy, Tahir & Albert*"
   ]
  },
  {
   "cell_type": "markdown",
   "id": "fb08c0a4",
   "metadata": {},
   "source": [
    "In this notebook, we choose some of the higher performing models from the Training Machine Learning Models Notebook, and optimize / tune their hyperparameters. Once that is completed, we build an ensemble of our best performing models and refer to that as the Final Model which will be used to predict new data."
   ]
  },
  {
   "cell_type": "code",
   "execution_count": null,
   "id": "874a441d",
   "metadata": {},
   "outputs": [],
   "source": []
  }
 ],
 "metadata": {
  "kernelspec": {
   "display_name": "Python 3 (ipykernel)",
   "language": "python",
   "name": "python3"
  },
  "language_info": {
   "codemirror_mode": {
    "name": "ipython",
    "version": 3
   },
   "file_extension": ".py",
   "mimetype": "text/x-python",
   "name": "python",
   "nbconvert_exporter": "python",
   "pygments_lexer": "ipython3",
   "version": "3.9.10"
  }
 },
 "nbformat": 4,
 "nbformat_minor": 5
}
