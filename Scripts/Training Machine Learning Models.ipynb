{
 "cells": [
  {
   "cell_type": "markdown",
   "id": "baa9f518",
   "metadata": {},
   "source": [
    "# **IMI BIG DATA & AI CASE COMPETITION**\n",
    "\n",
    "## *By: Hafsa, Cindy, Tahir & Albert*"
   ]
  },
  {
   "cell_type": "markdown",
   "id": "d29bba9b",
   "metadata": {},
   "source": [
    "In the following Notebook, we will be training a bunch of Machine Learning models to see which ones perform the best for our task. "
   ]
  },
  {
   "cell_type": "code",
   "execution_count": null,
   "id": "859b0617",
   "metadata": {},
   "outputs": [],
   "source": []
  }
 ],
 "metadata": {
  "kernelspec": {
   "display_name": "Python 3 (ipykernel)",
   "language": "python",
   "name": "python3"
  },
  "language_info": {
   "codemirror_mode": {
    "name": "ipython",
    "version": 3
   },
   "file_extension": ".py",
   "mimetype": "text/x-python",
   "name": "python",
   "nbconvert_exporter": "python",
   "pygments_lexer": "ipython3",
   "version": "3.9.10"
  }
 },
 "nbformat": 4,
 "nbformat_minor": 5
}
