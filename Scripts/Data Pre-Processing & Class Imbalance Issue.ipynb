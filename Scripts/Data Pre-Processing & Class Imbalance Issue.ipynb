{
 "cells": [
  {
   "cell_type": "markdown",
   "id": "c150f9f0",
   "metadata": {},
   "source": [
    "# **IMI BIG DATA & AI CASE COMPETITION**\n",
    "\n",
    "## *By: Hafsa, Cindy, Tahir & Albert*"
   ]
  },
  {
   "cell_type": "markdown",
   "id": "ee724059",
   "metadata": {},
   "source": [
    "In order to move to the modelling phase, we must pre-process our data, make sure we have no data-leakage and fix the class imbalance problem. "
   ]
  },
  {
   "cell_type": "code",
   "execution_count": null,
   "id": "f4d81e0b",
   "metadata": {},
   "outputs": [],
   "source": []
  }
 ],
 "metadata": {
  "kernelspec": {
   "display_name": "Python 3 (ipykernel)",
   "language": "python",
   "name": "python3"
  },
  "language_info": {
   "codemirror_mode": {
    "name": "ipython",
    "version": 3
   },
   "file_extension": ".py",
   "mimetype": "text/x-python",
   "name": "python",
   "nbconvert_exporter": "python",
   "pygments_lexer": "ipython3",
   "version": "3.9.10"
  }
 },
 "nbformat": 4,
 "nbformat_minor": 5
}
